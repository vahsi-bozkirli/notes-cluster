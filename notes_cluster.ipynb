{
 "cells": [
  {
   "cell_type": "code",
   "execution_count": 23,
   "metadata": {
    "colab": {
     "base_uri": "https://localhost:8080/"
    },
    "id": "jhQn0LnU1UeA",
    "outputId": "3c007cca-6e78-4dca-ebad-523dcfb07c24"
   },
   "outputs": [
    {
     "name": "stderr",
     "output_type": "stream",
     "text": [
      "[nltk_data] Downloading package punkt to\n",
      "[nltk_data]     C:\\Users\\matyk\\AppData\\Roaming\\nltk_data...\n",
      "[nltk_data]   Package punkt is already up-to-date!\n"
     ]
    },
    {
     "data": {
      "text/plain": [
       "True"
      ]
     },
     "execution_count": 23,
     "metadata": {},
     "output_type": "execute_result"
    }
   ],
   "source": [
    "import pandas as pd\n",
    "import numpy as np\n",
    "import matplotlib.pyplot as plt\n",
    "import seaborn as sbn\n",
    "\n",
    "from bs4 import BeautifulSoup\n",
    "import re, nltk, glob, os, markdown, joblib\n",
    "from sklearn.cluster import KMeans\n",
    "from nltk.tokenize import word_tokenize\n",
    "from sklearn.pipeline import Pipeline\n",
    "from concurrent.futures import ThreadPoolExecutor\n",
    "from sklearn.feature_extraction.text import TfidfVectorizer\n",
    "\n",
    "nltk.download('punkt')"
   ]
  },
  {
   "cell_type": "code",
   "execution_count": 24,
   "metadata": {
    "id": "I4LqncFl5ZdM"
   },
   "outputs": [],
   "source": [
    "txt_paths = \"vivaldi notlar/\"\n",
    "\n",
    "paths = glob.glob(os.path.join(txt_paths,\"*.txt\"))"
   ]
  },
  {
   "cell_type": "code",
   "execution_count": 25,
   "metadata": {
    "id": "S4aoMUfwMU-Z"
   },
   "outputs": [],
   "source": [
    "def process_file(path):\n",
    "    # Belirtilen dosya yoluyla metin dosyasını açar ve okur.\n",
    "    with open(path, \"r\", encoding=\"UTF-8\") as dosya:\n",
    "        context = dosya.read()\n",
    "\n",
    "    # Markdown formatındaki metni HTML'den çıkartır ve sadece metin içeriğini alır.\n",
    "    return BeautifulSoup(markdown.markdown(context)).text\n",
    "\n",
    "# Verileri işlemek için bir ThreadPoolExecutor oluşturulur.\n",
    "# max_workers parametresi, aynı anda çalıştırılacak iş parçacığı (thread) sayısını belirler.\n",
    "with ThreadPoolExecutor(max_workers=4) as executor:\n",
    "    # executor.map ile iş parçacıkları kullanılarak her dosya path'i process_file işlevine gönderilir.\n",
    "    # Sonuçlar, orijinal sıra ile bir liste içinde saklanır.\n",
    "    text_list = list(executor.map(process_file, paths))"
   ]
  },
  {
   "cell_type": "code",
   "execution_count": 26,
   "metadata": {
    "id": "T1onmqpXqC0-"
   },
   "outputs": [],
   "source": [
    "text_df = pd.DataFrame(\n",
    "    {\"text\":text_list,\n",
    "     \"paths\":paths}\n",
    ")"
   ]
  },
  {
   "cell_type": "code",
   "execution_count": 27,
   "metadata": {
    "colab": {
     "base_uri": "https://localhost:8080/",
     "height": 206
    },
    "id": "RGm9g2013n0p",
    "outputId": "04e176a2-54ed-45d7-9636-c7daf489dc51"
   },
   "outputs": [
    {
     "data": {
      "text/html": [
       "<div>\n",
       "<style scoped>\n",
       "    .dataframe tbody tr th:only-of-type {\n",
       "        vertical-align: middle;\n",
       "    }\n",
       "\n",
       "    .dataframe tbody tr th {\n",
       "        vertical-align: top;\n",
       "    }\n",
       "\n",
       "    .dataframe thead th {\n",
       "        text-align: right;\n",
       "    }\n",
       "</style>\n",
       "<table border=\"1\" class=\"dataframe\">\n",
       "  <thead>\n",
       "    <tr style=\"text-align: right;\">\n",
       "      <th></th>\n",
       "      <th>text</th>\n",
       "      <th>paths</th>\n",
       "    </tr>\n",
       "  </thead>\n",
       "  <tbody>\n",
       "    <tr>\n",
       "      <th>0</th>\n",
       "      <td>Vikipedi\\nBir oto kodlayıcı, etiketlenmemiş ve...</td>\n",
       "      <td>vivaldi notlar\\# Vi_ 59.txt</td>\n",
       "    </tr>\n",
       "    <tr>\n",
       "      <th>1</th>\n",
       "      <td>Karar ağaçları\\nneden kullanılır?\\n\\ndeğişken ...</td>\n",
       "      <td>vivaldi notlar\\## K_ 48.txt</td>\n",
       "    </tr>\n",
       "    <tr>\n",
       "      <th>2</th>\n",
       "      <td>multinode hadoop kurulumu\\nUbuntu 22.04 hadoop...</td>\n",
       "      <td>vivaldi notlar\\#mul_ 51.txt</td>\n",
       "    </tr>\n",
       "    <tr>\n",
       "      <th>3</th>\n",
       "      <td>1 kibibayt = 1024 byte\\n1 kilobyte = 1024 byte...</td>\n",
       "      <td>vivaldi notlar\\1 ki_ 137.txt</td>\n",
       "    </tr>\n",
       "    <tr>\n",
       "      <th>4</th>\n",
       "      <td>1- TKY kapsamında hangi kalite araçlarını/yakl...</td>\n",
       "      <td>vivaldi notlar\\1- T_ 135.txt</td>\n",
       "    </tr>\n",
       "  </tbody>\n",
       "</table>\n",
       "</div>"
      ],
      "text/plain": [
       "                                                text  \\\n",
       "0  Vikipedi\\nBir oto kodlayıcı, etiketlenmemiş ve...   \n",
       "1  Karar ağaçları\\nneden kullanılır?\\n\\ndeğişken ...   \n",
       "2  multinode hadoop kurulumu\\nUbuntu 22.04 hadoop...   \n",
       "3  1 kibibayt = 1024 byte\\n1 kilobyte = 1024 byte...   \n",
       "4  1- TKY kapsamında hangi kalite araçlarını/yakl...   \n",
       "\n",
       "                          paths  \n",
       "0   vivaldi notlar\\# Vi_ 59.txt  \n",
       "1   vivaldi notlar\\## K_ 48.txt  \n",
       "2   vivaldi notlar\\#mul_ 51.txt  \n",
       "3  vivaldi notlar\\1 ki_ 137.txt  \n",
       "4  vivaldi notlar\\1- T_ 135.txt  "
      ]
     },
     "execution_count": 27,
     "metadata": {},
     "output_type": "execute_result"
    }
   ],
   "source": [
    "text_df.head()"
   ]
  },
  {
   "cell_type": "code",
   "execution_count": 28,
   "metadata": {
    "id": "xoM6XAdQQfUS"
   },
   "outputs": [],
   "source": [
    "cleaned_text_list = []\n",
    "\n",
    "for text in text_list:\n",
    "    # İlk adımda noktalama işaretlerini kaldırıyoruz.\n",
    "    no_dots = re.sub(r\"[^\\w\\s]\", \"\", text)\n",
    "\n",
    "    # Ardından sayıları kaldırıyoruz.\n",
    "    no_numbers = re.sub(r\"\\d+\", \"\", no_dots)\n",
    "\n",
    "    cleaned_text_list.append(no_numbers)"
   ]
  },
  {
   "cell_type": "code",
   "execution_count": 29,
   "metadata": {
    "id": "7TRKHZufM-aq"
   },
   "outputs": [],
   "source": [
    "vectorizer = TfidfVectorizer()"
   ]
  },
  {
   "cell_type": "code",
   "execution_count": 30,
   "metadata": {
    "colab": {
     "base_uri": "https://localhost:8080/",
     "height": 475
    },
    "id": "qUVchXwGQ8Ox",
    "outputId": "9b00e671-dd51-42d7-c633-8ded47b3660e"
   },
   "outputs": [
    {
     "data": {
      "text/plain": [
       "<Axes: >"
      ]
     },
     "execution_count": 30,
     "metadata": {},
     "output_type": "execute_result"
    },
    {
     "data": {
      "image/png": "[encoded data removed]",
      "text/plain": [
       "<Figure size 640x480 with 2 Axes>"
      ]
     },
     "metadata": {},
     "output_type": "display_data"
    }
   ],
   "source": [
    "sbn.heatmap(\n",
    "    vectorizer.fit_transform(\n",
    "        cleaned_text_list\n",
    "        ).toarray()\n",
    "    )"
   ]
  },
  {
   "cell_type": "code",
   "execution_count": 31,
   "metadata": {
    "id": "4ZwNxt15_Tl2"
   },
   "outputs": [],
   "source": [
    "vect_text = vectorizer.fit_transform(cleaned_text_list).toarray()"
   ]
  },
  {
   "cell_type": "code",
   "execution_count": 40,
   "metadata": {
    "colab": {
     "base_uri": "https://localhost:8080/",
     "height": 148
    },
    "id": "NC_Qh1zJUUZC",
    "outputId": "dd5527cf-f4c6-49d4-efc7-e8bc7653cbc0",
    "scrolled": true
   },
   "outputs": [
    {
     "name": "stderr",
     "output_type": "stream",
     "text": [
      "C:\\Users\\matyk\\AppData\\Local\\Programs\\Python\\Python312\\Lib\\site-packages\\sklearn\\cluster\\_kmeans.py:1416: FutureWarning:\n",
      "\n",
      "The default value of `n_init` will change from 10 to 'auto' in 1.4. Set the value of `n_init` explicitly to suppress the warning\n",
      "\n"
     ]
    },
    {
     "data": {
      "text/html": [
       "<style>#sk-container-id-4 {color: black;}#sk-container-id-4 pre{padding: 0;}#sk-container-id-4 div.sk-toggleable {background-color: white;}#sk-container-id-4 label.sk-toggleable__label {cursor: pointer;display: block;width: 100%;margin-bottom: 0;padding: 0.3em;box-sizing: border-box;text-align: center;}#sk-container-id-4 label.sk-toggleable__label-arrow:before {content: \"▸\";float: left;margin-right: 0.25em;color: #696969;}#sk-container-id-4 label.sk-toggleable__label-arrow:hover:before {color: black;}#sk-container-id-4 div.sk-estimator:hover label.sk-toggleable__label-arrow:before {color: black;}#sk-container-id-4 div.sk-toggleable__content {max-height: 0;max-width: 0;overflow: hidden;text-align: left;background-color: #f0f8ff;}#sk-container-id-4 div.sk-toggleable__content pre {margin: 0.2em;color: black;border-radius: 0.25em;background-color: #f0f8ff;}#sk-container-id-4 input.sk-toggleable__control:checked~div.sk-toggleable__content {max-height: 200px;max-width: 100%;overflow: auto;}#sk-container-id-4 input.sk-toggleable__control:checked~label.sk-toggleable__label-arrow:before {content: \"▾\";}#sk-container-id-4 div.sk-estimator input.sk-toggleable__control:checked~label.sk-toggleable__label {background-color: #d4ebff;}#sk-container-id-4 div.sk-label input.sk-toggleable__control:checked~label.sk-toggleable__label {background-color: #d4ebff;}#sk-container-id-4 input.sk-hidden--visually {border: 0;clip: rect(1px 1px 1px 1px);clip: rect(1px, 1px, 1px, 1px);height: 1px;margin: -1px;overflow: hidden;padding: 0;position: absolute;width: 1px;}#sk-container-id-4 div.sk-estimator {font-family: monospace;background-color: #f0f8ff;border: 1px dotted black;border-radius: 0.25em;box-sizing: border-box;margin-bottom: 0.5em;}#sk-container-id-4 div.sk-estimator:hover {background-color: #d4ebff;}#sk-container-id-4 div.sk-parallel-item::after {content: \"\";width: 100%;border-bottom: 1px solid gray;flex-grow: 1;}#sk-container-id-4 div.sk-label:hover label.sk-toggleable__label {background-color: #d4ebff;}#sk-container-id-4 div.sk-serial::before {content: \"\";position: absolute;border-left: 1px solid gray;box-sizing: border-box;top: 0;bottom: 0;left: 50%;z-index: 0;}#sk-container-id-4 div.sk-serial {display: flex;flex-direction: column;align-items: center;background-color: white;padding-right: 0.2em;padding-left: 0.2em;position: relative;}#sk-container-id-4 div.sk-item {position: relative;z-index: 1;}#sk-container-id-4 div.sk-parallel {display: flex;align-items: stretch;justify-content: center;background-color: white;position: relative;}#sk-container-id-4 div.sk-item::before, #sk-container-id-4 div.sk-parallel-item::before {content: \"\";position: absolute;border-left: 1px solid gray;box-sizing: border-box;top: 0;bottom: 0;left: 50%;z-index: -1;}#sk-container-id-4 div.sk-parallel-item {display: flex;flex-direction: column;z-index: 1;position: relative;background-color: white;}#sk-container-id-4 div.sk-parallel-item:first-child::after {align-self: flex-end;width: 50%;}#sk-container-id-4 div.sk-parallel-item:last-child::after {align-self: flex-start;width: 50%;}#sk-container-id-4 div.sk-parallel-item:only-child::after {width: 0;}#sk-container-id-4 div.sk-dashed-wrapped {border: 1px dashed gray;margin: 0 0.4em 0.5em 0.4em;box-sizing: border-box;padding-bottom: 0.4em;background-color: white;}#sk-container-id-4 div.sk-label label {font-family: monospace;font-weight: bold;display: inline-block;line-height: 1.2em;}#sk-container-id-4 div.sk-label-container {text-align: center;}#sk-container-id-4 div.sk-container {/* jupyter's `normalize.less` sets `[hidden] { display: none; }` but bootstrap.min.css set `[hidden] { display: none !important; }` so we also need the `!important` here to be able to override the default hidden behavior on the sphinx rendered scikit-learn.org. See: https://github.com/scikit-learn/scikit-learn/issues/21755 */display: inline-block !important;position: relative;}#sk-container-id-4 div.sk-text-repr-fallback {display: none;}</style><div id=\"sk-container-id-4\" class=\"sk-top-container\"><div class=\"sk-text-repr-fallback\"><pre>KMeans(max_iter=500, n_clusters=5, random_state=42)</pre><b>In a Jupyter environment, please rerun this cell to show the HTML representation or trust the notebook. <br />On GitHub, the HTML representation is unable to render, please try loading this page with nbviewer.org.</b></div><div class=\"sk-container\" hidden><div class=\"sk-item\"><div class=\"sk-estimator sk-toggleable\"><input class=\"sk-toggleable__control sk-hidden--visually\" id=\"sk-estimator-id-4\" type=\"checkbox\" checked><label for=\"sk-estimator-id-4\" class=\"sk-toggleable__label sk-toggleable__label-arrow\">KMeans</label><div class=\"sk-toggleable__content\"><pre>KMeans(max_iter=500, n_clusters=5, random_state=42)</pre></div></div></div></div></div>"
      ],
      "text/plain": [
       "KMeans(max_iter=500, n_clusters=5, random_state=42)"
      ]
     },
     "execution_count": 40,
     "metadata": {},
     "output_type": "execute_result"
    }
   ],
   "source": [
    "kmeans = KMeans(n_clusters=5,random_state=42,max_iter=500)\n",
    "kmeans.fit(vect_text)"
   ]
  },
  {
   "cell_type": "code",
   "execution_count": 41,
   "metadata": {
    "colab": {
     "base_uri": "https://localhost:8080/"
    },
    "id": "SIVCVtSE21_y",
    "outputId": "e0d98152-3b0e-4b3e-d15a-587d772b18fa",
    "scrolled": true
   },
   "outputs": [
    {
     "name": "stdout",
     "output_type": "stream",
     "text": [
      "79\n",
      "[4 0 0 3 3 4 3 0 4 1 1 0 2 2 0 1 0 2 2 2 3 2 0 0 0 0 0 3 3 3 3 3 1 1 0 0 0\n",
      " 1 0 3 3 3 3 0 0 0 0 0 1 3 3 3 0 0 0 3 1 3 3 3 0 0 4 4 3 0 2 2 0 0 0 3 1 0\n",
      " 0 4 0 2 0]\n"
     ]
    }
   ],
   "source": [
    "print(len(kmeans.labels_))\n",
    "print(kmeans.labels_)"
   ]
  },
  {
   "cell_type": "code",
   "execution_count": 42,
   "metadata": {
    "colab": {
     "base_uri": "https://localhost:8080/",
     "height": 424
    },
    "id": "YVkq90sf21_z",
    "outputId": "dcc793ba-17d0-48cd-eb73-cff12d1f9e91",
    "scrolled": true
   },
   "outputs": [
    {
     "data": {
      "text/html": [
       "<div>\n",
       "<style scoped>\n",
       "    .dataframe tbody tr th:only-of-type {\n",
       "        vertical-align: middle;\n",
       "    }\n",
       "\n",
       "    .dataframe tbody tr th {\n",
       "        vertical-align: top;\n",
       "    }\n",
       "\n",
       "    .dataframe thead th {\n",
       "        text-align: right;\n",
       "    }\n",
       "</style>\n",
       "<table border=\"1\" class=\"dataframe\">\n",
       "  <thead>\n",
       "    <tr style=\"text-align: right;\">\n",
       "      <th></th>\n",
       "      <th>text</th>\n",
       "      <th>paths</th>\n",
       "      <th>cleaned text</th>\n",
       "      <th>cluster number</th>\n",
       "    </tr>\n",
       "  </thead>\n",
       "  <tbody>\n",
       "    <tr>\n",
       "      <th>0</th>\n",
       "      <td>Vikipedi\\nBir oto kodlayıcı, etiketlenmemiş ve...</td>\n",
       "      <td>vivaldi notlar\\# Vi_ 59.txt</td>\n",
       "      <td>Vikipedi\\nBir oto kodlayıcı etiketlenmemiş ver...</td>\n",
       "      <td>4</td>\n",
       "    </tr>\n",
       "    <tr>\n",
       "      <th>1</th>\n",
       "      <td>Karar ağaçları\\nneden kullanılır?\\n\\ndeğişken ...</td>\n",
       "      <td>vivaldi notlar\\## K_ 48.txt</td>\n",
       "      <td>Karar ağaçları\\nneden kullanılır\\n\\ndeğişken s...</td>\n",
       "      <td>0</td>\n",
       "    </tr>\n",
       "    <tr>\n",
       "      <th>2</th>\n",
       "      <td>multinode hadoop kurulumu\\nUbuntu 22.04 hadoop...</td>\n",
       "      <td>vivaldi notlar\\#mul_ 51.txt</td>\n",
       "      <td>multinode hadoop kurulumu\\nUbuntu  hadoop \\nNa...</td>\n",
       "      <td>0</td>\n",
       "    </tr>\n",
       "    <tr>\n",
       "      <th>3</th>\n",
       "      <td>1 kibibayt = 1024 byte\\n1 kilobyte = 1024 byte...</td>\n",
       "      <td>vivaldi notlar\\1 ki_ 137.txt</td>\n",
       "      <td>kibibayt   byte\\n kilobyte   byte\\nThu Nov   ...</td>\n",
       "      <td>3</td>\n",
       "    </tr>\n",
       "    <tr>\n",
       "      <th>4</th>\n",
       "      <td>1- TKY kapsamında hangi kalite araçlarını/yakl...</td>\n",
       "      <td>vivaldi notlar\\1- T_ 135.txt</td>\n",
       "      <td>TKY kapsamında hangi kalite araçlarınıyaklaşı...</td>\n",
       "      <td>3</td>\n",
       "    </tr>\n",
       "    <tr>\n",
       "      <th>...</th>\n",
       "      <td>...</td>\n",
       "      <td>...</td>\n",
       "      <td>...</td>\n",
       "      <td>...</td>\n",
       "    </tr>\n",
       "    <tr>\n",
       "      <th>74</th>\n",
       "      <td>Yapay zekanın babası Frank Rosenblatt(1928-197...</td>\n",
       "      <td>vivaldi notlar\\Yapa_ 68.txt</td>\n",
       "      <td>Yapay zekanın babası Frank Rosenblatt\\nİNCELE\\...</td>\n",
       "      <td>0</td>\n",
       "    </tr>\n",
       "    <tr>\n",
       "      <th>75</th>\n",
       "      <td>Yarowsky algoritması, doğal dil işlemede kendi...</td>\n",
       "      <td>vivaldi notlar\\Yaro_ 116.txt</td>\n",
       "      <td>Yarowsky algoritması doğal dil işlemede kendi ...</td>\n",
       "      <td>4</td>\n",
       "    </tr>\n",
       "    <tr>\n",
       "      <th>76</th>\n",
       "      <td>YBS IT KURSU\\nGüç kaynağı farklı konnektörler ...</td>\n",
       "      <td>vivaldi notlar\\YBS _ 6.txt</td>\n",
       "      <td>YBS IT KURSU\\nGüç kaynağı farklı konnektörler ...</td>\n",
       "      <td>0</td>\n",
       "    </tr>\n",
       "    <tr>\n",
       "      <th>77</th>\n",
       "      <td>Örneğin, sürekli değişen veri setleri için onl...</td>\n",
       "      <td>vivaldi notlar\\Örne_ 84.txt</td>\n",
       "      <td>Örneğin sürekli değişen veri setleri için onli...</td>\n",
       "      <td>2</td>\n",
       "    </tr>\n",
       "    <tr>\n",
       "      <th>78</th>\n",
       "      <td>Üreteç ve Ayırt Edici (Generative Adversarial ...</td>\n",
       "      <td>vivaldi notlar\\Üret_ 130.txt</td>\n",
       "      <td>Üreteç ve Ayırt Edici Generative Adversarial N...</td>\n",
       "      <td>0</td>\n",
       "    </tr>\n",
       "  </tbody>\n",
       "</table>\n",
       "<p>79 rows × 4 columns</p>\n",
       "</div>"
      ],
      "text/plain": [
       "                                                 text  \\\n",
       "0   Vikipedi\\nBir oto kodlayıcı, etiketlenmemiş ve...   \n",
       "1   Karar ağaçları\\nneden kullanılır?\\n\\ndeğişken ...   \n",
       "2   multinode hadoop kurulumu\\nUbuntu 22.04 hadoop...   \n",
       "3   1 kibibayt = 1024 byte\\n1 kilobyte = 1024 byte...   \n",
       "4   1- TKY kapsamında hangi kalite araçlarını/yakl...   \n",
       "..                                                ...   \n",
       "74  Yapay zekanın babası Frank Rosenblatt(1928-197...   \n",
       "75  Yarowsky algoritması, doğal dil işlemede kendi...   \n",
       "76  YBS IT KURSU\\nGüç kaynağı farklı konnektörler ...   \n",
       "77  Örneğin, sürekli değişen veri setleri için onl...   \n",
       "78  Üreteç ve Ayırt Edici (Generative Adversarial ...   \n",
       "\n",
       "                           paths  \\\n",
       "0    vivaldi notlar\\# Vi_ 59.txt   \n",
       "1    vivaldi notlar\\## K_ 48.txt   \n",
       "2    vivaldi notlar\\#mul_ 51.txt   \n",
       "3   vivaldi notlar\\1 ki_ 137.txt   \n",
       "4   vivaldi notlar\\1- T_ 135.txt   \n",
       "..                           ...   \n",
       "74   vivaldi notlar\\Yapa_ 68.txt   \n",
       "75  vivaldi notlar\\Yaro_ 116.txt   \n",
       "76    vivaldi notlar\\YBS _ 6.txt   \n",
       "77   vivaldi notlar\\Örne_ 84.txt   \n",
       "78  vivaldi notlar\\Üret_ 130.txt   \n",
       "\n",
       "                                         cleaned text  cluster number  \n",
       "0   Vikipedi\\nBir oto kodlayıcı etiketlenmemiş ver...               4  \n",
       "1   Karar ağaçları\\nneden kullanılır\\n\\ndeğişken s...               0  \n",
       "2   multinode hadoop kurulumu\\nUbuntu  hadoop \\nNa...               0  \n",
       "3    kibibayt   byte\\n kilobyte   byte\\nThu Nov   ...               3  \n",
       "4    TKY kapsamında hangi kalite araçlarınıyaklaşı...               3  \n",
       "..                                                ...             ...  \n",
       "74  Yapay zekanın babası Frank Rosenblatt\\nİNCELE\\...               0  \n",
       "75  Yarowsky algoritması doğal dil işlemede kendi ...               4  \n",
       "76  YBS IT KURSU\\nGüç kaynağı farklı konnektörler ...               0  \n",
       "77  Örneğin sürekli değişen veri setleri için onli...               2  \n",
       "78  Üreteç ve Ayırt Edici Generative Adversarial N...               0  \n",
       "\n",
       "[79 rows x 4 columns]"
      ]
     },
     "execution_count": 42,
     "metadata": {},
     "output_type": "execute_result"
    }
   ],
   "source": [
    "text_df[\"cleaned text\"] = cleaned_text_list\n",
    "text_df['cluster number'] = kmeans.labels_\n",
    "text_df"
   ]
  },
  {
   "cell_type": "code",
   "execution_count": 43,
   "metadata": {
    "id": "hgGXsQKp21_z"
   },
   "outputs": [],
   "source": [
    "#joblib.dump(kmeans,\"not kümeleyici.pk1\")"
   ]
  },
  {
   "cell_type": "code",
   "execution_count": 44,
   "metadata": {
    "colab": {
     "base_uri": "https://localhost:8080/"
    },
    "id": "5Wsc0XnI21_0",
    "outputId": "a59bee79-4e95-4e2c-ae29-a9c80e597cf1"
   },
   "outputs": [
    {
     "data": {
      "text/plain": [
       "array([0])"
      ]
     },
     "execution_count": 44,
     "metadata": {},
     "output_type": "execute_result"
    }
   ],
   "source": [
    "def preprocess_text(text):\n",
    "    text = re.sub(r\"[^\\w\\s]\",\"\",text)\n",
    "    text = re.sub(r\"\\d+\",\"\",text)\n",
    "    return [text]\n",
    "\n",
    "pipeline = Pipeline([\n",
    "    (\"vectorize\",vectorizer),\n",
    "    (\"Kmeans\",kmeans)\n",
    "])\n",
    "\n",
    "text = \"güven aralığı standart sapmaya, varyasyona, gözlem sayısına ve alpha ya bağımlıdır güven aralığı 0 içeriyorsa H0 hipotezi kabul edilir 0 içermiyorsa H0 hipotezi red edilir\"\n",
    "pipeline.predict(preprocess_text(text))"
   ]
  },
  {
   "cell_type": "code",
   "execution_count": 45,
   "metadata": {
    "colab": {
     "base_uri": "https://localhost:8080/",
     "height": 424
    },
    "id": "fbOs6lO921_1",
    "outputId": "ba4d0729-1980-4e5f-f751-2a19adcfab78",
    "scrolled": true
   },
   "outputs": [
    {
     "data": {
      "text/html": [
       "<div>\n",
       "<style scoped>\n",
       "    .dataframe tbody tr th:only-of-type {\n",
       "        vertical-align: middle;\n",
       "    }\n",
       "\n",
       "    .dataframe tbody tr th {\n",
       "        vertical-align: top;\n",
       "    }\n",
       "\n",
       "    .dataframe thead th {\n",
       "        text-align: right;\n",
       "    }\n",
       "</style>\n",
       "<table border=\"1\" class=\"dataframe\">\n",
       "  <thead>\n",
       "    <tr style=\"text-align: right;\">\n",
       "      <th></th>\n",
       "      <th>text</th>\n",
       "      <th>paths</th>\n",
       "      <th>cleaned text</th>\n",
       "      <th>cluster number</th>\n",
       "    </tr>\n",
       "  </thead>\n",
       "  <tbody>\n",
       "    <tr>\n",
       "      <th>9</th>\n",
       "      <td>aykırı değer işleme\\naykırı gözlem türleri\\n* ...</td>\n",
       "      <td>vivaldi notlar\\aykı_ 11.txt</td>\n",
       "      <td>aykırı değer işleme\\naykırı gözlem türleri\\n n...</td>\n",
       "      <td>1</td>\n",
       "    </tr>\n",
       "    <tr>\n",
       "      <th>10</th>\n",
       "      <td>aykırı değer işleme\\naykırı gözlem türleri\\n* ...</td>\n",
       "      <td>vivaldi notlar\\aykı_ 14.txt</td>\n",
       "      <td>aykırı değer işleme\\naykırı gözlem türleri\\n n...</td>\n",
       "      <td>1</td>\n",
       "    </tr>\n",
       "    <tr>\n",
       "      <th>15</th>\n",
       "      <td>btkakademi boş değer doldurma\\nboy_kilo_liste ...</td>\n",
       "      <td>vivaldi notlar\\btka_ 26.txt</td>\n",
       "      <td>btkakademi boş değer doldurma\\nboy_kilo_liste ...</td>\n",
       "      <td>1</td>\n",
       "    </tr>\n",
       "    <tr>\n",
       "      <th>32</th>\n",
       "      <td>dönüşümler\\n* StandartScaler: Standardizasyon ...</td>\n",
       "      <td>vivaldi notlar\\dönü_ 15.txt</td>\n",
       "      <td>dönüşümler\\n StandartScaler Standardizasyon iş...</td>\n",
       "      <td>1</td>\n",
       "    </tr>\n",
       "    <tr>\n",
       "      <th>33</th>\n",
       "      <td>Eksik Veri Yönetimi\\n* Complete Case Analysis(...</td>\n",
       "      <td>vivaldi notlar\\Eksi_ 30.txt</td>\n",
       "      <td>Eksik Veri Yönetimi\\n Complete Case AnalysisCC...</td>\n",
       "      <td>1</td>\n",
       "    </tr>\n",
       "    <tr>\n",
       "      <th>37</th>\n",
       "      <td>Evet, IEEE 802 ailesi, 802.11, 802.3 ve 802.15...</td>\n",
       "      <td>vivaldi notlar\\Evet_ 128.txt</td>\n",
       "      <td>Evet IEEE  ailesi   ve in yanı sıra diğer bazı...</td>\n",
       "      <td>1</td>\n",
       "    </tr>\n",
       "    <tr>\n",
       "      <th>48</th>\n",
       "      <td>Kümeleme\\nK means \\nElbow Method\\nDBSCAN\\nDens...</td>\n",
       "      <td>vivaldi notlar\\Küme_ 33.txt</td>\n",
       "      <td>Kümeleme\\nK means \\nElbow Method\\nDBSCAN\\nDens...</td>\n",
       "      <td>1</td>\n",
       "    </tr>\n",
       "    <tr>\n",
       "      <th>56</th>\n",
       "      <td>normalizasyon: \\nölçeklendirme için değişkenle...</td>\n",
       "      <td>vivaldi notlar\\norm_ 12.txt</td>\n",
       "      <td>normalizasyon \\nölçeklendirme için değişkenler...</td>\n",
       "      <td>1</td>\n",
       "    </tr>\n",
       "    <tr>\n",
       "      <th>72</th>\n",
       "      <td>Veri ölçeklendirme\\nrobustscaler: verileri kan...</td>\n",
       "      <td>vivaldi notlar\\Veri_ 24.txt</td>\n",
       "      <td>Veri ölçeklendirme\\nrobustscaler verileri kant...</td>\n",
       "      <td>1</td>\n",
       "    </tr>\n",
       "  </tbody>\n",
       "</table>\n",
       "</div>"
      ],
      "text/plain": [
       "                                                 text  \\\n",
       "9   aykırı değer işleme\\naykırı gözlem türleri\\n* ...   \n",
       "10  aykırı değer işleme\\naykırı gözlem türleri\\n* ...   \n",
       "15  btkakademi boş değer doldurma\\nboy_kilo_liste ...   \n",
       "32  dönüşümler\\n* StandartScaler: Standardizasyon ...   \n",
       "33  Eksik Veri Yönetimi\\n* Complete Case Analysis(...   \n",
       "37  Evet, IEEE 802 ailesi, 802.11, 802.3 ve 802.15...   \n",
       "48  Kümeleme\\nK means \\nElbow Method\\nDBSCAN\\nDens...   \n",
       "56  normalizasyon: \\nölçeklendirme için değişkenle...   \n",
       "72  Veri ölçeklendirme\\nrobustscaler: verileri kan...   \n",
       "\n",
       "                           paths  \\\n",
       "9    vivaldi notlar\\aykı_ 11.txt   \n",
       "10   vivaldi notlar\\aykı_ 14.txt   \n",
       "15   vivaldi notlar\\btka_ 26.txt   \n",
       "32   vivaldi notlar\\dönü_ 15.txt   \n",
       "33   vivaldi notlar\\Eksi_ 30.txt   \n",
       "37  vivaldi notlar\\Evet_ 128.txt   \n",
       "48   vivaldi notlar\\Küme_ 33.txt   \n",
       "56   vivaldi notlar\\norm_ 12.txt   \n",
       "72   vivaldi notlar\\Veri_ 24.txt   \n",
       "\n",
       "                                         cleaned text  cluster number  \n",
       "9   aykırı değer işleme\\naykırı gözlem türleri\\n n...               1  \n",
       "10  aykırı değer işleme\\naykırı gözlem türleri\\n n...               1  \n",
       "15  btkakademi boş değer doldurma\\nboy_kilo_liste ...               1  \n",
       "32  dönüşümler\\n StandartScaler Standardizasyon iş...               1  \n",
       "33  Eksik Veri Yönetimi\\n Complete Case AnalysisCC...               1  \n",
       "37  Evet IEEE  ailesi   ve in yanı sıra diğer bazı...               1  \n",
       "48  Kümeleme\\nK means \\nElbow Method\\nDBSCAN\\nDens...               1  \n",
       "56  normalizasyon \\nölçeklendirme için değişkenler...               1  \n",
       "72  Veri ölçeklendirme\\nrobustscaler verileri kant...               1  "
      ]
     },
     "execution_count": 45,
     "metadata": {},
     "output_type": "execute_result"
    }
   ],
   "source": [
    "text_df[text_df[\"cluster number\"]==1]"
   ]
  },
  {
   "cell_type": "code",
   "execution_count": 48,
   "metadata": {
    "id": "GJYuo4V4Tc7B"
   },
   "outputs": [],
   "source": [
    "# Verileri saklamak istediğiniz ana dizini tanımlayın\n",
    "ana_dizin = \"clustered_data\"\n",
    "os.makedirs(ana_dizin, exist_ok=True)\n",
    "\n",
    "# Benzersiz küme numaraları üzerinden döngüye girin ve alt dizinler oluşturun\n",
    "benzersiz_küme = text_df['cluster number'].unique()\n",
    "for küme_numarası in benzersiz_küme:\n",
    "    küme_dizini = os.path.join(ana_dizin, f\"Küme_{küme_numarası}\")\n",
    "    os.makedirs(küme_dizini, exist_ok=True)\n",
    "\n",
    "# DataFrame üzerinde döngüye girin ve her metni ilgili küme klasörüne kaydedin\n",
    "for indeks, satır in text_df.iterrows():\n",
    "    küme_numarası = satır['cluster number']\n",
    "    metin = satır['text']\n",
    "\n",
    "    # Metin dosyası için yolunu tanımlayın\n",
    "    dosya_yolu = os.path.join(ana_dizin, f\"Küme_{küme_numarası}\", f\"metin_{indeks}.txt\")\n",
    "\n",
    "    # Metni metin dosyasına yazın\n",
    "    with open(dosya_yolu, \"w\", encoding=\"UTF-8\") as dosya:\n",
    "        dosya.write(metin)\n"
   ]
  },
  {
   "cell_type": "code",
   "execution_count": 49,
   "metadata": {
    "colab": {
     "base_uri": "https://localhost:8080/",
     "height": 542
    },
    "id": "F1U0kmiIgSa4",
    "outputId": "23b8def3-c576-4c26-8def-d872303a318d"
   },
   "outputs": [
    {
     "data": {
      "application/vnd.plotly.v1+json": {
       "config": {
        "plotlyServerURL": "https://plot.ly"
       },
       "data": [
        {
         "marker": {
          "color": [
           4,
           0,
           0,
           3,
           3,
           4,
           3,
           0,
           4,
           1,
           1,
           0,
           2,
           2,
           0,
           1,
           0,
           2,
           2,
           2,
           3,
           2,
           0,
           0,
           0,
           0,
           0,
           3,
           3,
           3,
           3,
           3,
           1,
           1,
           0,
           0,
           0,
           1,
           0,
           3,
           3,
           3,
           3,
           0,
           0,
           0,
           0,
           0,
           1,
           3,
           3,
           3,
           0,
           0,
           0,
           3,
           1,
           3,
           3,
           3,
           0,
           0,
           4,
           4,
           3,
           0,
           2,
           2,
           0,
           0,
           0,
           3,
           1,
           0,
           0,
           4,
           0,
           2,
           0
          ],
          "colorbar": {
           "title": {
            "text": "Küme Numaraları"
           }
          },
          "colorscale": [
           [
            0,
            "#440154"
           ],
           [
            0.1111111111111111,
            "#482878"
           ],
           [
            0.2222222222222222,
            "#3e4989"
           ],
           [
            0.3333333333333333,
            "#31688e"
           ],
           [
            0.4444444444444444,
            "#26828e"
           ],
           [
            0.5555555555555556,
            "#1f9e89"
           ],
           [
            0.6666666666666666,
            "#35b779"
           ],
           [
            0.7777777777777778,
            "#6ece58"
           ],
           [
            0.8888888888888888,
            "#b5de2b"
           ],
           [
            1,
            "#fde725"
           ]
          ],
          "opacity": 0.8,
          "size": 4
         },
         "mode": "markers",
         "type": "scatter3d",
         "x": [
          0.06550153130571926,
          -0.03374710233059394,
          0.06589228670753244,
          0.05744809697777426,
          0.042164012157887704,
          0.05214130977202016,
          -0.010447923476618657,
          0.005085141831788723,
          0.06813787373365557,
          0.02648047012048273,
          0.02689007077265474,
          0.04862224477422438,
          0.08176184578445891,
          0.06460642326308096,
          0.06343170214318432,
          0.08298449731168164,
          0.08132253970403693,
          0.46541338083597195,
          0.5064789858402657,
          0.520128993478337,
          -0.3280090170853363,
          0.09073188211356502,
          0.1027074442539485,
          -0.02837588661163679,
          0.0408317334155926,
          -0.22805907224120178,
          -0.30357845188057775,
          0.09241465407859455,
          -0.42174128166314073,
          0.014299683565764292,
          -0.3614896901803085,
          -0.37462831563910953,
          0.030654970471777388,
          0.11673916963982106,
          -0.17477859154311343,
          0.10586574608759661,
          0.12999068986076984,
          0.05298359770232826,
          0.04850273547359521,
          0.07502600846524446,
          0.06811421881280973,
          -0.4431588037270509,
          -0.3531450273556482,
          0.0802077081417278,
          -0.1183122168144248,
          -0.15123976672570816,
          0.04608379088373383,
          0.056164767756064285,
          0.04864077630560489,
          -0.35457159303481006,
          -0.4975130064420823,
          -0.40542320919287383,
          -0.10636537540530698,
          -0.037585827724264526,
          -0.002958366102464027,
          0.017951646332042093,
          0.048119888309337056,
          -0.02419586751829959,
          -0.2845121597931875,
          -0.365364027724082,
          0.1096706286214007,
          0.1810391772379188,
          0.05809144278030607,
          0.05331187397687767,
          0.07006276452236876,
          0.06548993616865728,
          0.4877203258067834,
          0.478593454066935,
          -0.0065721748572067735,
          0.03113130465834233,
          0.04846036133294531,
          -0.06845204425324333,
          0.022052645922340734,
          0.05620185592176198,
          0.0015939518253837558,
          0.023873567000313376,
          0.06575596176840486,
          0.0873394495041918,
          0.05331358002268259
         ],
         "y": [
          -0.11545508607594851,
          -0.04343443668647962,
          -0.14927451539810724,
          -0.15913959668427358,
          -0.1379231316217998,
          -0.16369350467582566,
          -0.10346716329545226,
          -0.0917596321069418,
          -0.12797725901161386,
          -0.20327351177020006,
          -0.20162201469395677,
          -0.09732068208797914,
          -0.03967319355295955,
          -0.13026173429152385,
          -0.1575306583088481,
          -0.14803018073682117,
          0.0010326914865779347,
          0.4760591850418616,
          0.5432746557537214,
          0.5553963197540489,
          0.13973774933176536,
          -0.044523324482587764,
          -0.055096193853349656,
          -0.06724932743404147,
          -0.04200386393508351,
          -0.010166281186723301,
          0.011569872634115333,
          0.022893780174442612,
          0.2737357463135967,
          -0.13669511289504407,
          0.23276759787481188,
          0.2872258184364182,
          -0.10785256900260917,
          -0.07570635956889502,
          -0.04428240810926159,
          0.042325213956134276,
          0.03812440034579868,
          -0.0987129325543099,
          -0.11792610730030656,
          -0.1536591138647076,
          -0.1739982242550251,
          0.269608206394456,
          0.24599535200104555,
          -0.08708645880186483,
          -0.08283287836025952,
          -0.0602220333718732,
          -0.07982936003512571,
          -0.06396696696796816,
          -0.13096862298505466,
          0.2960898261701535,
          0.42004012109490885,
          0.28656828089017755,
          -0.06304857918375203,
          -0.05785459746050128,
          -0.08409212886150509,
          0.07437653138124992,
          -0.15616903077798222,
          -0.05849175291286605,
          0.1069824561002614,
          0.21301182635500382,
          0.021259565848213834,
          0.06141144954587254,
          -0.12293550140432583,
          -0.13762811936704622,
          -0.17157458237748996,
          -0.13588064180451462,
          0.5141127370552431,
          0.5137570283014339,
          -0.06708619499452258,
          -0.1337882521760012,
          -0.13079818456071388,
          -0.07702127990483042,
          -0.06285428478521281,
          -0.12930109302494555,
          -0.052363082327478744,
          -0.1273052163029821,
          -0.06768030992240827,
          -0.045817241537900066,
          -0.06305189859151179
         ],
         "z": [
          0.033754258299388155,
          -0.042742273847302975,
          -0.005651843582252913,
          0.03081167715095504,
          0.031756824165775445,
          -0.02156567173367885,
          -0.013607238190337127,
          -0.08570461111066742,
          -0.03438619511224841,
          -0.042688427840211915,
          -0.043054295372344994,
          -0.028533597369993755,
          0.046793918429988444,
          -0.0016017873811703235,
          -0.022694074237687857,
          -0.016067573033320914,
          -0.028059549287972697,
          -0.1414148486292031,
          -0.11611297693445151,
          -0.1475667990888201,
          -0.04917110295991307,
          -0.017925090903537534,
          0.6639256384108989,
          0.008198115313796354,
          -0.04080888222762373,
          -0.3286603424823594,
          -0.32493476006056776,
          0.6775891936532377,
          0.044624764621589104,
          0.003406945558884559,
          0.002854347238787279,
          0.09681587348575584,
          0.006347589575279054,
          0.49947484207771115,
          -0.3608687223923461,
          0.13695507706466634,
          0.06839559408882427,
          -0.013995856761097892,
          -0.03372616604125501,
          -0.002698109517827943,
          0.005154027980062986,
          0.025458009557957288,
          0.17547403393139394,
          0.02324144636949873,
          -0.25530729958385134,
          -0.3634787444051465,
          -0.02615788088392597,
          -0.012196884825846962,
          0.01484591243443929,
          0.1429751938707845,
          0.17473762745318439,
          0.014592336887550204,
          -0.18459561328200164,
          -0.009407677506776431,
          -0.009527518250779037,
          0.5152564998412392,
          -0.06968465544164075,
          -0.02040163079318344,
          -0.05822421109355412,
          -0.023624617302832312,
          -0.044269099843111205,
          -0.05351224271938406,
          0.03542146434768708,
          -0.013498887863480207,
          0.016042968652143046,
          -0.01495717557712828,
          -0.10326818492283402,
          -0.09296512449191217,
          -0.02427291070272919,
          -0.05324959343958495,
          -0.037188130202514005,
          0.04708322628037039,
          0.018156454227106173,
          -0.06111551812440896,
          -0.011690643745491391,
          0.0008286204917688348,
          -0.03496640857222458,
          0.005857138647678905,
          -0.025028170435866942
         ]
        }
       ],
       "layout": {
        "autosize": true,
        "scene": {
         "aspectmode": "auto",
         "aspectratio": {
          "x": 1.0945091243648684,
          "y": 0.815975611313786,
          "z": 1.1197045300584372
         },
         "xaxis": {
          "title": {
           "text": "X Ekseni"
          },
          "type": "linear"
         },
         "yaxis": {
          "title": {
           "text": "Y Ekseni"
          },
          "type": "linear"
         },
         "zaxis": {
          "title": {
           "text": "Z Ekseni"
          },
          "type": "linear"
         }
        },
        "template": {
         "data": {
          "bar": [
           {
            "error_x": {
             "color": "#2a3f5f"
            },
            "error_y": {
             "color": "#2a3f5f"
            },
            "marker": {
             "line": {
              "color": "#E5ECF6",
              "width": 0.5
             },
             "pattern": {
              "fillmode": "overlay",
              "size": 10,
              "solidity": 0.2
             }
            },
            "type": "bar"
           }
          ],
          "barpolar": [
           {
            "marker": {
             "line": {
              "color": "#E5ECF6",
              "width": 0.5
             },
             "pattern": {
              "fillmode": "overlay",
              "size": 10,
              "solidity": 0.2
             }
            },
            "type": "barpolar"
           }
          ],
          "carpet": [
           {
            "aaxis": {
             "endlinecolor": "#2a3f5f",
             "gridcolor": "white",
             "linecolor": "white",
             "minorgridcolor": "white",
             "startlinecolor": "#2a3f5f"
            },
            "baxis": {
             "endlinecolor": "#2a3f5f",
             "gridcolor": "white",
             "linecolor": "white",
             "minorgridcolor": "white",
             "startlinecolor": "#2a3f5f"
            },
            "type": "carpet"
           }
          ],
          "choropleth": [
           {
            "colorbar": {
             "outlinewidth": 0,
             "ticks": ""
            },
            "type": "choropleth"
           }
          ],
          "contour": [
           {
            "colorbar": {
             "outlinewidth": 0,
             "ticks": ""
            },
            "colorscale": [
             [
              0,
              "#0d0887"
             ],
             [
              0.1111111111111111,
              "#46039f"
             ],
             [
              0.2222222222222222,
              "#7201a8"
             ],
             [
              0.3333333333333333,
              "#9c179e"
             ],
             [
              0.4444444444444444,
              "#bd3786"
             ],
             [
              0.5555555555555556,
              "#d8576b"
             ],
             [
              0.6666666666666666,
              "#ed7953"
             ],
             [
              0.7777777777777778,
              "#fb9f3a"
             ],
             [
              0.8888888888888888,
              "#fdca26"
             ],
             [
              1,
              "#f0f921"
             ]
            ],
            "type": "contour"
           }
          ],
          "contourcarpet": [
           {
            "colorbar": {
             "outlinewidth": 0,
             "ticks": ""
            },
            "type": "contourcarpet"
           }
          ],
          "heatmap": [
           {
            "colorbar": {
             "outlinewidth": 0,
             "ticks": ""
            },
            "colorscale": [
             [
              0,
              "#0d0887"
             ],
             [
              0.1111111111111111,
              "#46039f"
             ],
             [
              0.2222222222222222,
              "#7201a8"
             ],
             [
              0.3333333333333333,
              "#9c179e"
             ],
             [
              0.4444444444444444,
              "#bd3786"
             ],
             [
              0.5555555555555556,
              "#d8576b"
             ],
             [
              0.6666666666666666,
              "#ed7953"
             ],
             [
              0.7777777777777778,
              "#fb9f3a"
             ],
             [
              0.8888888888888888,
              "#fdca26"
             ],
             [
              1,
              "#f0f921"
             ]
            ],
            "type": "heatmap"
           }
          ],
          "heatmapgl": [
           {
            "colorbar": {
             "outlinewidth": 0,
             "ticks": ""
            },
            "colorscale": [
             [
              0,
              "#0d0887"
             ],
             [
              0.1111111111111111,
              "#46039f"
             ],
             [
              0.2222222222222222,
              "#7201a8"
             ],
             [
              0.3333333333333333,
              "#9c179e"
             ],
             [
              0.4444444444444444,
              "#bd3786"
             ],
             [
              0.5555555555555556,
              "#d8576b"
             ],
             [
              0.6666666666666666,
              "#ed7953"
             ],
             [
              0.7777777777777778,
              "#fb9f3a"
             ],
             [
              0.8888888888888888,
              "#fdca26"
             ],
             [
              1,
              "#f0f921"
             ]
            ],
            "type": "heatmapgl"
           }
          ],
          "histogram": [
           {
            "marker": {
             "pattern": {
              "fillmode": "overlay",
              "size": 10,
              "solidity": 0.2
             }
            },
            "type": "histogram"
           }
          ],
          "histogram2d": [
           {
            "colorbar": {
             "outlinewidth": 0,
             "ticks": ""
            },
            "colorscale": [
             [
              0,
              "#0d0887"
             ],
             [
              0.1111111111111111,
              "#46039f"
             ],
             [
              0.2222222222222222,
              "#7201a8"
             ],
             [
              0.3333333333333333,
              "#9c179e"
             ],
             [
              0.4444444444444444,
              "#bd3786"
             ],
             [
              0.5555555555555556,
              "#d8576b"
             ],
             [
              0.6666666666666666,
              "#ed7953"
             ],
             [
              0.7777777777777778,
              "#fb9f3a"
             ],
             [
              0.8888888888888888,
              "#fdca26"
             ],
             [
              1,
              "#f0f921"
             ]
            ],
            "type": "histogram2d"
           }
          ],
          "histogram2dcontour": [
           {
            "colorbar": {
             "outlinewidth": 0,
             "ticks": ""
            },
            "colorscale": [
             [
              0,
              "#0d0887"
             ],
             [
              0.1111111111111111,
              "#46039f"
             ],
             [
              0.2222222222222222,
              "#7201a8"
             ],
             [
              0.3333333333333333,
              "#9c179e"
             ],
             [
              0.4444444444444444,
              "#bd3786"
             ],
             [
              0.5555555555555556,
              "#d8576b"
             ],
             [
              0.6666666666666666,
              "#ed7953"
             ],
             [
              0.7777777777777778,
              "#fb9f3a"
             ],
             [
              0.8888888888888888,
              "#fdca26"
             ],
             [
              1,
              "#f0f921"
             ]
            ],
            "type": "histogram2dcontour"
           }
          ],
          "mesh3d": [
           {
            "colorbar": {
             "outlinewidth": 0,
             "ticks": ""
            },
            "type": "mesh3d"
           }
          ],
          "parcoords": [
           {
            "line": {
             "colorbar": {
              "outlinewidth": 0,
              "ticks": ""
             }
            },
            "type": "parcoords"
           }
          ],
          "pie": [
           {
            "automargin": true,
            "type": "pie"
           }
          ],
          "scatter": [
           {
            "fillpattern": {
             "fillmode": "overlay",
             "size": 10,
             "solidity": 0.2
            },
            "type": "scatter"
           }
          ],
          "scatter3d": [
           {
            "line": {
             "colorbar": {
              "outlinewidth": 0,
              "ticks": ""
             }
            },
            "marker": {
             "colorbar": {
              "outlinewidth": 0,
              "ticks": ""
             }
            },
            "type": "scatter3d"
           }
          ],
          "scattercarpet": [
           {
            "marker": {
             "colorbar": {
              "outlinewidth": 0,
              "ticks": ""
             }
            },
            "type": "scattercarpet"
           }
          ],
          "scattergeo": [
           {
            "marker": {
             "colorbar": {
              "outlinewidth": 0,
              "ticks": ""
             }
            },
            "type": "scattergeo"
           }
          ],
          "scattergl": [
           {
            "marker": {
             "colorbar": {
              "outlinewidth": 0,
              "ticks": ""
             }
            },
            "type": "scattergl"
           }
          ],
          "scattermapbox": [
           {
            "marker": {
             "colorbar": {
              "outlinewidth": 0,
              "ticks": ""
             }
            },
            "type": "scattermapbox"
           }
          ],
          "scatterpolar": [
           {
            "marker": {
             "colorbar": {
              "outlinewidth": 0,
              "ticks": ""
             }
            },
            "type": "scatterpolar"
           }
          ],
          "scatterpolargl": [
           {
            "marker": {
             "colorbar": {
              "outlinewidth": 0,
              "ticks": ""
             }
            },
            "type": "scatterpolargl"
           }
          ],
          "scatterternary": [
           {
            "marker": {
             "colorbar": {
              "outlinewidth": 0,
              "ticks": ""
             }
            },
            "type": "scatterternary"
           }
          ],
          "surface": [
           {
            "colorbar": {
             "outlinewidth": 0,
             "ticks": ""
            },
            "colorscale": [
             [
              0,
              "#0d0887"
             ],
             [
              0.1111111111111111,
              "#46039f"
             ],
             [
              0.2222222222222222,
              "#7201a8"
             ],
             [
              0.3333333333333333,
              "#9c179e"
             ],
             [
              0.4444444444444444,
              "#bd3786"
             ],
             [
              0.5555555555555556,
              "#d8576b"
             ],
             [
              0.6666666666666666,
              "#ed7953"
             ],
             [
              0.7777777777777778,
              "#fb9f3a"
             ],
             [
              0.8888888888888888,
              "#fdca26"
             ],
             [
              1,
              "#f0f921"
             ]
            ],
            "type": "surface"
           }
          ],
          "table": [
           {
            "cells": {
             "fill": {
              "color": "#EBF0F8"
             },
             "line": {
              "color": "white"
             }
            },
            "header": {
             "fill": {
              "color": "#C8D4E3"
             },
             "line": {
              "color": "white"
             }
            },
            "type": "table"
           }
          ]
         },
         "layout": {
          "annotationdefaults": {
           "arrowcolor": "#2a3f5f",
           "arrowhead": 0,
           "arrowwidth": 1
          },
          "autotypenumbers": "strict",
          "coloraxis": {
           "colorbar": {
            "outlinewidth": 0,
            "ticks": ""
           }
          },
          "colorscale": {
           "diverging": [
            [
             0,
             "#8e0152"
            ],
            [
             0.1,
             "#c51b7d"
            ],
            [
             0.2,
             "#de77ae"
            ],
            [
             0.3,
             "#f1b6da"
            ],
            [
             0.4,
             "#fde0ef"
            ],
            [
             0.5,
             "#f7f7f7"
            ],
            [
             0.6,
             "#e6f5d0"
            ],
            [
             0.7,
             "#b8e186"
            ],
            [
             0.8,
             "#7fbc41"
            ],
            [
             0.9,
             "#4d9221"
            ],
            [
             1,
             "#276419"
            ]
           ],
           "sequential": [
            [
             0,
             "#0d0887"
            ],
            [
             0.1111111111111111,
             "#46039f"
            ],
            [
             0.2222222222222222,
             "#7201a8"
            ],
            [
             0.3333333333333333,
             "#9c179e"
            ],
            [
             0.4444444444444444,
             "#bd3786"
            ],
            [
             0.5555555555555556,
             "#d8576b"
            ],
            [
             0.6666666666666666,
             "#ed7953"
            ],
            [
             0.7777777777777778,
             "#fb9f3a"
            ],
            [
             0.8888888888888888,
             "#fdca26"
            ],
            [
             1,
             "#f0f921"
            ]
           ],
           "sequentialminus": [
            [
             0,
             "#0d0887"
            ],
            [
             0.1111111111111111,
             "#46039f"
            ],
            [
             0.2222222222222222,
             "#7201a8"
            ],
            [
             0.3333333333333333,
             "#9c179e"
            ],
            [
             0.4444444444444444,
             "#bd3786"
            ],
            [
             0.5555555555555556,
             "#d8576b"
            ],
            [
             0.6666666666666666,
             "#ed7953"
            ],
            [
             0.7777777777777778,
             "#fb9f3a"
            ],
            [
             0.8888888888888888,
             "#fdca26"
            ],
            [
             1,
             "#f0f921"
            ]
           ]
          },
          "colorway": [
           "#636efa",
           "#EF553B",
           "#00cc96",
           "#ab63fa",
           "#FFA15A",
           "#19d3f3",
           "#FF6692",
           "#B6E880",
           "#FF97FF",
           "#FECB52"
          ],
          "font": {
           "color": "#2a3f5f"
          },
          "geo": {
           "bgcolor": "white",
           "lakecolor": "white",
           "landcolor": "#E5ECF6",
           "showlakes": true,
           "showland": true,
           "subunitcolor": "white"
          },
          "hoverlabel": {
           "align": "left"
          },
          "hovermode": "closest",
          "mapbox": {
           "style": "light"
          },
          "paper_bgcolor": "white",
          "plot_bgcolor": "#E5ECF6",
          "polar": {
           "angularaxis": {
            "gridcolor": "white",
            "linecolor": "white",
            "ticks": ""
           },
           "bgcolor": "#E5ECF6",
           "radialaxis": {
            "gridcolor": "white",
            "linecolor": "white",
            "ticks": ""
           }
          },
          "scene": {
           "xaxis": {
            "backgroundcolor": "#E5ECF6",
            "gridcolor": "white",
            "gridwidth": 2,
            "linecolor": "white",
            "showbackground": true,
            "ticks": "",
            "zerolinecolor": "white"
           },
           "yaxis": {
            "backgroundcolor": "#E5ECF6",
            "gridcolor": "white",
            "gridwidth": 2,
            "linecolor": "white",
            "showbackground": true,
            "ticks": "",
            "zerolinecolor": "white"
           },
           "zaxis": {
            "backgroundcolor": "#E5ECF6",
            "gridcolor": "white",
            "gridwidth": 2,
            "linecolor": "white",
            "showbackground": true,
            "ticks": "",
            "zerolinecolor": "white"
           }
          },
          "shapedefaults": {
           "line": {
            "color": "#2a3f5f"
           }
          },
          "ternary": {
           "aaxis": {
            "gridcolor": "white",
            "linecolor": "white",
            "ticks": ""
           },
           "baxis": {
            "gridcolor": "white",
            "linecolor": "white",
            "ticks": ""
           },
           "bgcolor": "#E5ECF6",
           "caxis": {
            "gridcolor": "white",
            "linecolor": "white",
            "ticks": ""
           }
          },
          "title": {
           "x": 0.05
          },
          "xaxis": {
           "automargin": true,
           "gridcolor": "white",
           "linecolor": "white",
           "ticks": "",
           "title": {
            "standoff": 15
           },
           "zerolinecolor": "white",
           "zerolinewidth": 2
          },
          "yaxis": {
           "automargin": true,
           "gridcolor": "white",
           "linecolor": "white",
           "ticks": "",
           "title": {
            "standoff": 15
           },
           "zerolinecolor": "white",
           "zerolinewidth": 2
          }
         }
        }
       }
      },
      "image/png": "[encoded data removed]",
      "text/html": [
       "<div>                            <div id=\"7f168c26-e23f-4db2-8b94-6a6f503a6167\" class=\"plotly-graph-div\" style=\"height:525px; width:100%;\"></div>            <script type=\"text/javascript\">                require([\"plotly\"], function(Plotly) {                    window.PLOTLYENV=window.PLOTLYENV || {};                                    if (document.getElementById(\"7f168c26-e23f-4db2-8b94-6a6f503a6167\")) {                    Plotly.newPlot(                        \"7f168c26-e23f-4db2-8b94-6a6f503a6167\",                        [{\"marker\":{\"color\":[4,0,0,3,3,4,3,0,4,1,1,0,2,2,0,1,0,2,2,2,3,2,0,0,0,0,0,3,3,3,3,3,1,1,0,0,0,1,0,3,3,3,3,0,0,0,0,0,1,3,3,3,0,0,0,3,1,3,3,3,0,0,4,4,3,0,2,2,0,0,0,3,1,0,0,4,0,2,0],\"colorbar\":{\"title\":{\"text\":\"Küme Numaraları\"}},\"colorscale\":[[0.0,\"#440154\"],[0.1111111111111111,\"#482878\"],[0.2222222222222222,\"#3e4989\"],[0.3333333333333333,\"#31688e\"],[0.4444444444444444,\"#26828e\"],[0.5555555555555556,\"#1f9e89\"],[0.6666666666666666,\"#35b779\"],[0.7777777777777778,\"#6ece58\"],[0.8888888888888888,\"#b5de2b\"],[1.0,\"#fde725\"]],\"opacity\":0.8,\"size\":4},\"mode\":\"markers\",\"x\":[0.06550153130571926,-0.03374710233059394,0.06589228670753244,0.05744809697777426,0.042164012157887704,0.05214130977202016,-0.010447923476618657,0.005085141831788723,0.06813787373365557,0.02648047012048273,0.02689007077265474,0.04862224477422438,0.08176184578445891,0.06460642326308096,0.06343170214318432,0.08298449731168164,0.08132253970403693,0.46541338083597195,0.5064789858402657,0.520128993478337,-0.3280090170853363,0.09073188211356502,0.1027074442539485,-0.02837588661163679,0.0408317334155926,-0.22805907224120178,-0.30357845188057775,0.09241465407859455,-0.42174128166314073,0.014299683565764292,-0.3614896901803085,-0.37462831563910953,0.030654970471777388,0.11673916963982106,-0.17477859154311343,0.10586574608759661,0.12999068986076984,0.05298359770232826,0.04850273547359521,0.07502600846524446,0.06811421881280973,-0.4431588037270509,-0.3531450273556482,0.0802077081417278,-0.1183122168144248,-0.15123976672570816,0.04608379088373383,0.056164767756064285,0.04864077630560489,-0.35457159303481006,-0.4975130064420823,-0.40542320919287383,-0.10636537540530698,-0.037585827724264526,-0.002958366102464027,0.017951646332042093,0.048119888309337056,-0.02419586751829959,-0.2845121597931875,-0.365364027724082,0.1096706286214007,0.1810391772379188,0.05809144278030607,0.05331187397687767,0.07006276452236876,0.06548993616865728,0.4877203258067834,0.478593454066935,-0.0065721748572067735,0.03113130465834233,0.04846036133294531,-0.06845204425324333,0.022052645922340734,0.05620185592176198,0.0015939518253837558,0.023873567000313376,0.06575596176840486,0.0873394495041918,0.05331358002268259],\"y\":[-0.11545508607594851,-0.04343443668647962,-0.14927451539810724,-0.15913959668427358,-0.1379231316217998,-0.16369350467582566,-0.10346716329545226,-0.0917596321069418,-0.12797725901161386,-0.20327351177020006,-0.20162201469395677,-0.09732068208797914,-0.03967319355295955,-0.13026173429152385,-0.1575306583088481,-0.14803018073682117,0.0010326914865779347,0.4760591850418616,0.5432746557537214,0.5553963197540489,0.13973774933176536,-0.044523324482587764,-0.055096193853349656,-0.06724932743404147,-0.04200386393508351,-0.010166281186723301,0.011569872634115333,0.022893780174442612,0.2737357463135967,-0.13669511289504407,0.23276759787481188,0.2872258184364182,-0.10785256900260917,-0.07570635956889502,-0.04428240810926159,0.042325213956134276,0.03812440034579868,-0.0987129325543099,-0.11792610730030656,-0.1536591138647076,-0.1739982242550251,0.269608206394456,0.24599535200104555,-0.08708645880186483,-0.08283287836025952,-0.0602220333718732,-0.07982936003512571,-0.06396696696796816,-0.13096862298505466,0.2960898261701535,0.42004012109490885,0.28656828089017755,-0.06304857918375203,-0.05785459746050128,-0.08409212886150509,0.07437653138124992,-0.15616903077798222,-0.05849175291286605,0.1069824561002614,0.21301182635500382,0.021259565848213834,0.06141144954587254,-0.12293550140432583,-0.13762811936704622,-0.17157458237748996,-0.13588064180451462,0.5141127370552431,0.5137570283014339,-0.06708619499452258,-0.1337882521760012,-0.13079818456071388,-0.07702127990483042,-0.06285428478521281,-0.12930109302494555,-0.052363082327478744,-0.1273052163029821,-0.06768030992240827,-0.045817241537900066,-0.06305189859151179],\"z\":[0.033754258299388155,-0.042742273847302975,-0.005651843582252913,0.03081167715095504,0.031756824165775445,-0.02156567173367885,-0.013607238190337127,-0.08570461111066742,-0.03438619511224841,-0.042688427840211915,-0.043054295372344994,-0.028533597369993755,0.046793918429988444,-0.0016017873811703235,-0.022694074237687857,-0.016067573033320914,-0.028059549287972697,-0.1414148486292031,-0.11611297693445151,-0.1475667990888201,-0.04917110295991307,-0.017925090903537534,0.6639256384108989,0.008198115313796354,-0.04080888222762373,-0.3286603424823594,-0.32493476006056776,0.6775891936532377,0.044624764621589104,0.003406945558884559,0.002854347238787279,0.09681587348575584,0.006347589575279054,0.49947484207771115,-0.3608687223923461,0.13695507706466634,0.06839559408882427,-0.013995856761097892,-0.03372616604125501,-0.002698109517827943,0.005154027980062986,0.025458009557957288,0.17547403393139394,0.02324144636949873,-0.25530729958385134,-0.3634787444051465,-0.02615788088392597,-0.012196884825846962,0.01484591243443929,0.1429751938707845,0.17473762745318439,0.014592336887550204,-0.18459561328200164,-0.009407677506776431,-0.009527518250779037,0.5152564998412392,-0.06968465544164075,-0.02040163079318344,-0.05822421109355412,-0.023624617302832312,-0.044269099843111205,-0.05351224271938406,0.03542146434768708,-0.013498887863480207,0.016042968652143046,-0.01495717557712828,-0.10326818492283402,-0.09296512449191217,-0.02427291070272919,-0.05324959343958495,-0.037188130202514005,0.04708322628037039,0.018156454227106173,-0.06111551812440896,-0.011690643745491391,0.0008286204917688348,-0.03496640857222458,0.005857138647678905,-0.025028170435866942],\"type\":\"scatter3d\"}],                        {\"template\":{\"data\":{\"histogram2dcontour\":[{\"type\":\"histogram2dcontour\",\"colorbar\":{\"outlinewidth\":0,\"ticks\":\"\"},\"colorscale\":[[0.0,\"#0d0887\"],[0.1111111111111111,\"#46039f\"],[0.2222222222222222,\"#7201a8\"],[0.3333333333333333,\"#9c179e\"],[0.4444444444444444,\"#bd3786\"],[0.5555555555555556,\"#d8576b\"],[0.6666666666666666,\"#ed7953\"],[0.7777777777777778,\"#fb9f3a\"],[0.8888888888888888,\"#fdca26\"],[1.0,\"#f0f921\"]]}],\"choropleth\":[{\"type\":\"choropleth\",\"colorbar\":{\"outlinewidth\":0,\"ticks\":\"\"}}],\"histogram2d\":[{\"type\":\"histogram2d\",\"colorbar\":{\"outlinewidth\":0,\"ticks\":\"\"},\"colorscale\":[[0.0,\"#0d0887\"],[0.1111111111111111,\"#46039f\"],[0.2222222222222222,\"#7201a8\"],[0.3333333333333333,\"#9c179e\"],[0.4444444444444444,\"#bd3786\"],[0.5555555555555556,\"#d8576b\"],[0.6666666666666666,\"#ed7953\"],[0.7777777777777778,\"#fb9f3a\"],[0.8888888888888888,\"#fdca26\"],[1.0,\"#f0f921\"]]}],\"heatmap\":[{\"type\":\"heatmap\",\"colorbar\":{\"outlinewidth\":0,\"ticks\":\"\"},\"colorscale\":[[0.0,\"#0d0887\"],[0.1111111111111111,\"#46039f\"],[0.2222222222222222,\"#7201a8\"],[0.3333333333333333,\"#9c179e\"],[0.4444444444444444,\"#bd3786\"],[0.5555555555555556,\"#d8576b\"],[0.6666666666666666,\"#ed7953\"],[0.7777777777777778,\"#fb9f3a\"],[0.8888888888888888,\"#fdca26\"],[1.0,\"#f0f921\"]]}],\"heatmapgl\":[{\"type\":\"heatmapgl\",\"colorbar\":{\"outlinewidth\":0,\"ticks\":\"\"},\"colorscale\":[[0.0,\"#0d0887\"],[0.1111111111111111,\"#46039f\"],[0.2222222222222222,\"#7201a8\"],[0.3333333333333333,\"#9c179e\"],[0.4444444444444444,\"#bd3786\"],[0.5555555555555556,\"#d8576b\"],[0.6666666666666666,\"#ed7953\"],[0.7777777777777778,\"#fb9f3a\"],[0.8888888888888888,\"#fdca26\"],[1.0,\"#f0f921\"]]}],\"contourcarpet\":[{\"type\":\"contourcarpet\",\"colorbar\":{\"outlinewidth\":0,\"ticks\":\"\"}}],\"contour\":[{\"type\":\"contour\",\"colorbar\":{\"outlinewidth\":0,\"ticks\":\"\"},\"colorscale\":[[0.0,\"#0d0887\"],[0.1111111111111111,\"#46039f\"],[0.2222222222222222,\"#7201a8\"],[0.3333333333333333,\"#9c179e\"],[0.4444444444444444,\"#bd3786\"],[0.5555555555555556,\"#d8576b\"],[0.6666666666666666,\"#ed7953\"],[0.7777777777777778,\"#fb9f3a\"],[0.8888888888888888,\"#fdca26\"],[1.0,\"#f0f921\"]]}],\"surface\":[{\"type\":\"surface\",\"colorbar\":{\"outlinewidth\":0,\"ticks\":\"\"},\"colorscale\":[[0.0,\"#0d0887\"],[0.1111111111111111,\"#46039f\"],[0.2222222222222222,\"#7201a8\"],[0.3333333333333333,\"#9c179e\"],[0.4444444444444444,\"#bd3786\"],[0.5555555555555556,\"#d8576b\"],[0.6666666666666666,\"#ed7953\"],[0.7777777777777778,\"#fb9f3a\"],[0.8888888888888888,\"#fdca26\"],[1.0,\"#f0f921\"]]}],\"mesh3d\":[{\"type\":\"mesh3d\",\"colorbar\":{\"outlinewidth\":0,\"ticks\":\"\"}}],\"scatter\":[{\"fillpattern\":{\"fillmode\":\"overlay\",\"size\":10,\"solidity\":0.2},\"type\":\"scatter\"}],\"parcoords\":[{\"type\":\"parcoords\",\"line\":{\"colorbar\":{\"outlinewidth\":0,\"ticks\":\"\"}}}],\"scatterpolargl\":[{\"type\":\"scatterpolargl\",\"marker\":{\"colorbar\":{\"outlinewidth\":0,\"ticks\":\"\"}}}],\"bar\":[{\"error_x\":{\"color\":\"#2a3f5f\"},\"error_y\":{\"color\":\"#2a3f5f\"},\"marker\":{\"line\":{\"color\":\"#E5ECF6\",\"width\":0.5},\"pattern\":{\"fillmode\":\"overlay\",\"size\":10,\"solidity\":0.2}},\"type\":\"bar\"}],\"scattergeo\":[{\"type\":\"scattergeo\",\"marker\":{\"colorbar\":{\"outlinewidth\":0,\"ticks\":\"\"}}}],\"scatterpolar\":[{\"type\":\"scatterpolar\",\"marker\":{\"colorbar\":{\"outlinewidth\":0,\"ticks\":\"\"}}}],\"histogram\":[{\"marker\":{\"pattern\":{\"fillmode\":\"overlay\",\"size\":10,\"solidity\":0.2}},\"type\":\"histogram\"}],\"scattergl\":[{\"type\":\"scattergl\",\"marker\":{\"colorbar\":{\"outlinewidth\":0,\"ticks\":\"\"}}}],\"scatter3d\":[{\"type\":\"scatter3d\",\"line\":{\"colorbar\":{\"outlinewidth\":0,\"ticks\":\"\"}},\"marker\":{\"colorbar\":{\"outlinewidth\":0,\"ticks\":\"\"}}}],\"scattermapbox\":[{\"type\":\"scattermapbox\",\"marker\":{\"colorbar\":{\"outlinewidth\":0,\"ticks\":\"\"}}}],\"scatterternary\":[{\"type\":\"scatterternary\",\"marker\":{\"colorbar\":{\"outlinewidth\":0,\"ticks\":\"\"}}}],\"scattercarpet\":[{\"type\":\"scattercarpet\",\"marker\":{\"colorbar\":{\"outlinewidth\":0,\"ticks\":\"\"}}}],\"carpet\":[{\"aaxis\":{\"endlinecolor\":\"#2a3f5f\",\"gridcolor\":\"white\",\"linecolor\":\"white\",\"minorgridcolor\":\"white\",\"startlinecolor\":\"#2a3f5f\"},\"baxis\":{\"endlinecolor\":\"#2a3f5f\",\"gridcolor\":\"white\",\"linecolor\":\"white\",\"minorgridcolor\":\"white\",\"startlinecolor\":\"#2a3f5f\"},\"type\":\"carpet\"}],\"table\":[{\"cells\":{\"fill\":{\"color\":\"#EBF0F8\"},\"line\":{\"color\":\"white\"}},\"header\":{\"fill\":{\"color\":\"#C8D4E3\"},\"line\":{\"color\":\"white\"}},\"type\":\"table\"}],\"barpolar\":[{\"marker\":{\"line\":{\"color\":\"#E5ECF6\",\"width\":0.5},\"pattern\":{\"fillmode\":\"overlay\",\"size\":10,\"solidity\":0.2}},\"type\":\"barpolar\"}],\"pie\":[{\"automargin\":true,\"type\":\"pie\"}]},\"layout\":{\"autotypenumbers\":\"strict\",\"colorway\":[\"#636efa\",\"#EF553B\",\"#00cc96\",\"#ab63fa\",\"#FFA15A\",\"#19d3f3\",\"#FF6692\",\"#B6E880\",\"#FF97FF\",\"#FECB52\"],\"font\":{\"color\":\"#2a3f5f\"},\"hovermode\":\"closest\",\"hoverlabel\":{\"align\":\"left\"},\"paper_bgcolor\":\"white\",\"plot_bgcolor\":\"#E5ECF6\",\"polar\":{\"bgcolor\":\"#E5ECF6\",\"angularaxis\":{\"gridcolor\":\"white\",\"linecolor\":\"white\",\"ticks\":\"\"},\"radialaxis\":{\"gridcolor\":\"white\",\"linecolor\":\"white\",\"ticks\":\"\"}},\"ternary\":{\"bgcolor\":\"#E5ECF6\",\"aaxis\":{\"gridcolor\":\"white\",\"linecolor\":\"white\",\"ticks\":\"\"},\"baxis\":{\"gridcolor\":\"white\",\"linecolor\":\"white\",\"ticks\":\"\"},\"caxis\":{\"gridcolor\":\"white\",\"linecolor\":\"white\",\"ticks\":\"\"}},\"coloraxis\":{\"colorbar\":{\"outlinewidth\":0,\"ticks\":\"\"}},\"colorscale\":{\"sequential\":[[0.0,\"#0d0887\"],[0.1111111111111111,\"#46039f\"],[0.2222222222222222,\"#7201a8\"],[0.3333333333333333,\"#9c179e\"],[0.4444444444444444,\"#bd3786\"],[0.5555555555555556,\"#d8576b\"],[0.6666666666666666,\"#ed7953\"],[0.7777777777777778,\"#fb9f3a\"],[0.8888888888888888,\"#fdca26\"],[1.0,\"#f0f921\"]],\"sequentialminus\":[[0.0,\"#0d0887\"],[0.1111111111111111,\"#46039f\"],[0.2222222222222222,\"#7201a8\"],[0.3333333333333333,\"#9c179e\"],[0.4444444444444444,\"#bd3786\"],[0.5555555555555556,\"#d8576b\"],[0.6666666666666666,\"#ed7953\"],[0.7777777777777778,\"#fb9f3a\"],[0.8888888888888888,\"#fdca26\"],[1.0,\"#f0f921\"]],\"diverging\":[[0,\"#8e0152\"],[0.1,\"#c51b7d\"],[0.2,\"#de77ae\"],[0.3,\"#f1b6da\"],[0.4,\"#fde0ef\"],[0.5,\"#f7f7f7\"],[0.6,\"#e6f5d0\"],[0.7,\"#b8e186\"],[0.8,\"#7fbc41\"],[0.9,\"#4d9221\"],[1,\"#276419\"]]},\"xaxis\":{\"gridcolor\":\"white\",\"linecolor\":\"white\",\"ticks\":\"\",\"title\":{\"standoff\":15},\"zerolinecolor\":\"white\",\"automargin\":true,\"zerolinewidth\":2},\"yaxis\":{\"gridcolor\":\"white\",\"linecolor\":\"white\",\"ticks\":\"\",\"title\":{\"standoff\":15},\"zerolinecolor\":\"white\",\"automargin\":true,\"zerolinewidth\":2},\"scene\":{\"xaxis\":{\"backgroundcolor\":\"#E5ECF6\",\"gridcolor\":\"white\",\"linecolor\":\"white\",\"showbackground\":true,\"ticks\":\"\",\"zerolinecolor\":\"white\",\"gridwidth\":2},\"yaxis\":{\"backgroundcolor\":\"#E5ECF6\",\"gridcolor\":\"white\",\"linecolor\":\"white\",\"showbackground\":true,\"ticks\":\"\",\"zerolinecolor\":\"white\",\"gridwidth\":2},\"zaxis\":{\"backgroundcolor\":\"#E5ECF6\",\"gridcolor\":\"white\",\"linecolor\":\"white\",\"showbackground\":true,\"ticks\":\"\",\"zerolinecolor\":\"white\",\"gridwidth\":2}},\"shapedefaults\":{\"line\":{\"color\":\"#2a3f5f\"}},\"annotationdefaults\":{\"arrowcolor\":\"#2a3f5f\",\"arrowhead\":0,\"arrowwidth\":1},\"geo\":{\"bgcolor\":\"white\",\"landcolor\":\"#E5ECF6\",\"subunitcolor\":\"white\",\"showland\":true,\"showlakes\":true,\"lakecolor\":\"white\"},\"title\":{\"x\":0.05},\"mapbox\":{\"style\":\"light\"}}},\"scene\":{\"xaxis\":{\"title\":{\"text\":\"X Ekseni\"}},\"yaxis\":{\"title\":{\"text\":\"Y Ekseni\"}},\"zaxis\":{\"title\":{\"text\":\"Z Ekseni\"}}}},                        {\"responsive\": true}                    ).then(function(){\n",
       "                            \n",
       "var gd = document.getElementById('7f168c26-e23f-4db2-8b94-6a6f503a6167');\n",
       "var x = new MutationObserver(function (mutations, observer) {{\n",
       "        var display = window.getComputedStyle(gd).display;\n",
       "        if (!display || display === 'none') {{\n",
       "            console.log([gd, 'removed!']);\n",
       "            Plotly.purge(gd);\n",
       "            observer.disconnect();\n",
       "        }}\n",
       "}});\n",
       "\n",
       "// Listen for the removal of the full notebook cells\n",
       "var notebookContainer = gd.closest('#notebook-container');\n",
       "if (notebookContainer) {{\n",
       "    x.observe(notebookContainer, {childList: true});\n",
       "}}\n",
       "\n",
       "// Listen for the clearing of the current output cell\n",
       "var outputEl = gd.closest('.output');\n",
       "if (outputEl) {{\n",
       "    x.observe(outputEl, {childList: true});\n",
       "}}\n",
       "\n",
       "                        })                };                });            </script>        </div>"
      ]
     },
     "metadata": {},
     "output_type": "display_data"
    }
   ],
   "source": [
    "import plotly.graph_objects as go\n",
    "from sklearn.decomposition import PCA\n",
    "import numpy as np\n",
    "\n",
    "pca = PCA(n_components=3)\n",
    "df = pca.fit_transform(vect_text)\n",
    "\n",
    "# Veri oluşturun\n",
    "x = df[:, 0]\n",
    "y = df[:, 1]\n",
    "z = df[:, 2]\n",
    "cluster_numbers = kmeans.labels_  # Küme numaralarını içeren dizi\n",
    "\n",
    "# Küme numaralarına göre renkleri belirleyin\n",
    "colorscale = 'Viridis'  # Renk paletini seçebilirsiniz\n",
    "marker_colors = cluster_numbers\n",
    "\n",
    "# 3D scatter plot oluşturun\n",
    "fig = go.Figure(data=[go.Scatter3d(\n",
    "    x=x,\n",
    "    y=y,\n",
    "    z=z,\n",
    "    mode='markers',\n",
    "    marker=dict(\n",
    "        size=4,\n",
    "        opacity=0.8,\n",
    "        color=marker_colors,\n",
    "        colorscale=colorscale,\n",
    "        colorbar=dict(title='Küme Numaraları')\n",
    "    )\n",
    ")])\n",
    "\n",
    "# Eksen etiketlerini ayarlayın\n",
    "fig.update_layout(scene=dict(\n",
    "    xaxis_title='X Ekseni',\n",
    "    yaxis_title='Y Ekseni',\n",
    "    zaxis_title='Z Ekseni'\n",
    "))\n",
    "\n",
    "# Grafiği gösterin\n",
    "fig.show()\n"
   ]
  },
  {
   "cell_type": "code",
   "execution_count": 47,
   "metadata": {
    "colab": {
     "base_uri": "https://localhost:8080/"
    },
    "id": "n2bVsd18641R",
    "outputId": "51848db1-3e21-4c89-b1f9-4563e5370579"
   },
   "outputs": [
    {
     "name": "stdout",
     "output_type": "stream",
     "text": [
      "Collecting top2vec\n",
      "  Downloading top2vec-1.0.29-py3-none-any.whl (26 kB)\n",
      "Requirement already satisfied: numpy>=1.20.0 in /usr/local/lib/python3.10/dist-packages (from top2vec) (1.23.5)\n",
      "Requirement already satisfied: pandas in /usr/local/lib/python3.10/dist-packages (from top2vec) (1.5.3)\n",
      "Requirement already satisfied: scikit-learn>=1.2.0 in /usr/local/lib/python3.10/dist-packages (from top2vec) (1.2.2)\n",
      "Requirement already satisfied: gensim>=4.0.0 in /usr/local/lib/python3.10/dist-packages (from top2vec) (4.3.2)\n",
      "Collecting umap-learn>=0.5.1 (from top2vec)\n",
      "  Downloading umap-learn-0.5.4.tar.gz (90 kB)\n",
      "\u001b[2K     \u001b[90m━━━━━━━━━━━━━━━━━━━━━━━━━━━━━━━━━━━━━━━━\u001b[0m \u001b[32m90.8/90.8 kB\u001b[0m \u001b[31m2.8 MB/s\u001b[0m eta \u001b[36m0:00:00\u001b[0m\n",
      "\u001b[?25h  Preparing metadata (setup.py) ... \u001b[?25l\u001b[?25hdone\n",
      "Collecting hdbscan>=0.8.27 (from top2vec)\n",
      "  Downloading hdbscan-0.8.33.tar.gz (5.2 MB)\n",
      "\u001b[2K     \u001b[90m━━━━━━━━━━━━━━━━━━━━━━━━━━━━━━━━━━━━━━━━\u001b[0m \u001b[32m5.2/5.2 MB\u001b[0m \u001b[31m52.3 MB/s\u001b[0m eta \u001b[36m0:00:00\u001b[0m\n",
      "\u001b[?25h  Installing build dependencies ... \u001b[?25l\u001b[?25hdone\n",
      "  Getting requirements to build wheel ... \u001b[?25l\u001b[?25hdone\n",
      "  Preparing metadata (pyproject.toml) ... \u001b[?25l\u001b[?25hdone\n",
      "Requirement already satisfied: wordcloud in /usr/local/lib/python3.10/dist-packages (from top2vec) (1.9.2)\n",
      "Requirement already satisfied: scipy>=1.7.0 in /usr/local/lib/python3.10/dist-packages (from gensim>=4.0.0->top2vec) (1.11.3)\n",
      "Requirement already satisfied: smart-open>=1.8.1 in /usr/local/lib/python3.10/dist-packages (from gensim>=4.0.0->top2vec) (6.4.0)\n",
      "Collecting cython<3,>=0.27 (from hdbscan>=0.8.27->top2vec)\n",
      "  Using cached Cython-0.29.36-cp310-cp310-manylinux_2_17_x86_64.manylinux2014_x86_64.manylinux_2_24_x86_64.whl (1.9 MB)\n",
      "Requirement already satisfied: joblib>=1.0 in /usr/local/lib/python3.10/dist-packages (from hdbscan>=0.8.27->top2vec) (1.3.2)\n",
      "Requirement already satisfied: threadpoolctl>=2.0.0 in /usr/local/lib/python3.10/dist-packages (from scikit-learn>=1.2.0->top2vec) (3.2.0)\n",
      "Requirement already satisfied: numba>=0.51.2 in /usr/local/lib/python3.10/dist-packages (from umap-learn>=0.5.1->top2vec) (0.56.4)\n",
      "Collecting pynndescent>=0.5 (from umap-learn>=0.5.1->top2vec)\n",
      "  Downloading pynndescent-0.5.10.tar.gz (1.1 MB)\n",
      "\u001b[2K     \u001b[90m━━━━━━━━━━━━━━━━━━━━━━━━━━━━━━━━━━━━━━━━\u001b[0m \u001b[32m1.1/1.1 MB\u001b[0m \u001b[31m50.0 MB/s\u001b[0m eta \u001b[36m0:00:00\u001b[0m\n",
      "\u001b[?25h  Preparing metadata (setup.py) ... \u001b[?25l\u001b[?25hdone\n",
      "Requirement already satisfied: tqdm in /usr/local/lib/python3.10/dist-packages (from umap-learn>=0.5.1->top2vec) (4.66.1)\n",
      "Requirement already satisfied: tbb>=2019.0 in /usr/local/lib/python3.10/dist-packages (from umap-learn>=0.5.1->top2vec) (2021.10.0)\n",
      "Requirement already satisfied: python-dateutil>=2.8.1 in /usr/local/lib/python3.10/dist-packages (from pandas->top2vec) (2.8.2)\n",
      "Requirement already satisfied: pytz>=2020.1 in /usr/local/lib/python3.10/dist-packages (from pandas->top2vec) (2023.3.post1)\n",
      "Requirement already satisfied: pillow in /usr/local/lib/python3.10/dist-packages (from wordcloud->top2vec) (9.4.0)\n",
      "Requirement already satisfied: matplotlib in /usr/local/lib/python3.10/dist-packages (from wordcloud->top2vec) (3.7.1)\n",
      "Requirement already satisfied: llvmlite<0.40,>=0.39.0dev0 in /usr/local/lib/python3.10/dist-packages (from numba>=0.51.2->umap-learn>=0.5.1->top2vec) (0.39.1)\n",
      "Requirement already satisfied: setuptools in /usr/local/lib/python3.10/dist-packages (from numba>=0.51.2->umap-learn>=0.5.1->top2vec) (67.7.2)\n",
      "Requirement already satisfied: six>=1.5 in /usr/local/lib/python3.10/dist-packages (from python-dateutil>=2.8.1->pandas->top2vec) (1.16.0)\n",
      "Requirement already satisfied: contourpy>=1.0.1 in /usr/local/lib/python3.10/dist-packages (from matplotlib->wordcloud->top2vec) (1.1.1)\n",
      "Requirement already satisfied: cycler>=0.10 in /usr/local/lib/python3.10/dist-packages (from matplotlib->wordcloud->top2vec) (0.12.1)\n",
      "Requirement already satisfied: fonttools>=4.22.0 in /usr/local/lib/python3.10/dist-packages (from matplotlib->wordcloud->top2vec) (4.43.1)\n",
      "Requirement already satisfied: kiwisolver>=1.0.1 in /usr/local/lib/python3.10/dist-packages (from matplotlib->wordcloud->top2vec) (1.4.5)\n",
      "Requirement already satisfied: packaging>=20.0 in /usr/local/lib/python3.10/dist-packages (from matplotlib->wordcloud->top2vec) (23.2)\n",
      "Requirement already satisfied: pyparsing>=2.3.1 in /usr/local/lib/python3.10/dist-packages (from matplotlib->wordcloud->top2vec) (3.1.1)\n",
      "Building wheels for collected packages: hdbscan, umap-learn, pynndescent\n",
      "  Building wheel for hdbscan (pyproject.toml) ... \u001b[?25l\u001b[?25hdone\n",
      "  Created wheel for hdbscan: filename=hdbscan-0.8.33-cp310-cp310-linux_x86_64.whl size=3039174 sha256=4ff5ad9b5119b1b98dcc02d7516a5309d1cee06e1e674f3ffd4607c5af06cdf1\n",
      "  Stored in directory: /root/.cache/pip/wheels/75/0b/3b/dc4f60b7cc455efaefb62883a7483e76f09d06ca81cf87d610\n",
      "  Building wheel for umap-learn (setup.py) ... \u001b[?25l\u001b[?25hdone\n",
      "  Created wheel for umap-learn: filename=umap_learn-0.5.4-py3-none-any.whl size=86770 sha256=cce9dd9d5cb78dc07bf5daf3b37fb674950ba80efd4ec797cd0d8e2ef8eb2dfc\n",
      "  Stored in directory: /root/.cache/pip/wheels/fb/66/29/199acf5784d0f7b8add6d466175ab45506c96e386ed5dd0633\n",
      "  Building wheel for pynndescent (setup.py) ... \u001b[?25l\u001b[?25hdone\n",
      "  Created wheel for pynndescent: filename=pynndescent-0.5.10-py3-none-any.whl size=55615 sha256=4f28a3ecd635dacd611299a8ca2a310370c7f80ede22aecdd072877cc6936aa8\n",
      "  Stored in directory: /root/.cache/pip/wheels/4a/38/5d/f60a40a66a9512b7e5e83517ebc2d1b42d857be97d135f1096\n",
      "Successfully built hdbscan umap-learn pynndescent\n",
      "Installing collected packages: cython, pynndescent, hdbscan, umap-learn, top2vec\n",
      "  Attempting uninstall: cython\n",
      "    Found existing installation: Cython 3.0.4\n",
      "    Uninstalling Cython-3.0.4:\n",
      "      Successfully uninstalled Cython-3.0.4\n",
      "Successfully installed cython-0.29.36 hdbscan-0.8.33 pynndescent-0.5.10 top2vec-1.0.29 umap-learn-0.5.4\n"
     ]
    }
   ],
   "source": [
    "!pip install top2vec"
   ]
  },
  {
   "cell_type": "code",
   "execution_count": 52,
   "metadata": {
    "colab": {
     "base_uri": "https://localhost:8080/"
    },
    "id": "BtbeVDdSO5bH",
    "outputId": "240f6aa9-cf89-425e-e283-dec2ed8519f1"
   },
   "outputs": [
    {
     "name": "stderr",
     "output_type": "stream",
     "text": [
      "2023-10-27 12:02:47,113 - top2vec - INFO - Pre-processing documents for training\n",
      "INFO:top2vec:Pre-processing documents for training\n",
      "2023-10-27 12:02:47,461 - top2vec - INFO - Creating joint document/word embedding\n",
      "INFO:top2vec:Creating joint document/word embedding\n",
      "2023-10-27 12:02:57,702 - top2vec - INFO - Creating lower dimension embedding of documents\n",
      "INFO:top2vec:Creating lower dimension embedding of documents\n",
      "2023-10-27 12:03:03,635 - top2vec - INFO - Finding dense areas of documents\n",
      "INFO:top2vec:Finding dense areas of documents\n",
      "2023-10-27 12:03:03,647 - top2vec - INFO - Finding topics\n",
      "INFO:top2vec:Finding topics\n"
     ]
    }
   ],
   "source": [
    "# Boş veya eksik verileri temizle\n",
    "text_df = text_df.dropna(subset=[\"cleaned text\"])\n",
    "from top2vec import Top2Vec\n",
    "\n",
    "# Modeli oluştur\n",
    "model = Top2Vec(text_df[\"cleaned text\"].tolist(), min_count=0, umap_args={'n_neighbors': 7})\n"
   ]
  },
  {
   "cell_type": "code",
   "execution_count": 53,
   "metadata": {
    "id": "c1H70BTfJvJj"
   },
   "outputs": [],
   "source": [
    "doc,score,doc_ids = model.search_documents_by_topic(topic_num=0,num_docs=10)"
   ]
  },
  {
   "cell_type": "code",
   "execution_count": null,
   "metadata": {
    "id": "O5flm3qgMGcm"
   },
   "outputs": [],
   "source": [
    "for d,sc,id in zip(doc,score,doc_ids):\n",
    "  print(f\"Document:{id},\\nScore:{sc}\")\n",
    "  print(\"------------\")\n",
    "  print(doc)"
   ]
  },
  {
   "cell_type": "code",
   "execution_count": 60,
   "metadata": {
    "colab": {
     "base_uri": "https://localhost:8080/",
     "height": 438
    },
    "id": "ux04NufYRG-N",
    "outputId": "8b8f1758-f258-45cb-8956-1297c9ca4e47"
   },
   "outputs": [
    {
     "name": "stderr",
     "output_type": "stream",
     "text": [
      "2023-10-27 12:35:47,421 - top2vec - INFO - Pre-processing documents for training\n",
      "INFO:top2vec:Pre-processing documents for training\n",
      "2023-10-27 12:35:47,698 - top2vec - INFO - Creating joint document/word embedding\n",
      "INFO:top2vec:Creating joint document/word embedding\n",
      "2023-10-27 12:35:57,083 - top2vec - INFO - Creating lower dimension embedding of documents\n",
      "INFO:top2vec:Creating lower dimension embedding of documents\n",
      "2023-10-27 12:36:03,740 - top2vec - INFO - Finding dense areas of documents\n",
      "INFO:top2vec:Finding dense areas of documents\n",
      "2023-10-27 12:36:03,758 - top2vec - INFO - Finding topics\n",
      "INFO:top2vec:Finding topics\n"
     ]
    },
    {
     "ename": "AttributeError",
     "evalue": "ignored",
     "output_type": "error",
     "traceback": [
      "\u001b[0;31m---------------------------------------------------------------------------\u001b[0m",
      "\u001b[0;31mAttributeError\u001b[0m                            Traceback (most recent call last)",
      "\u001b[0;32m<ipython-input-60-34d33ea0c933>\u001b[0m in \u001b[0;36m<cell line: 10>\u001b[0;34m()\u001b[0m\n\u001b[1;32m      8\u001b[0m \u001b[0;34m\u001b[0m\u001b[0m\n\u001b[1;32m      9\u001b[0m \u001b[0;31m# Her kümenin başlık vektörünü alın\u001b[0m\u001b[0;34m\u001b[0m\u001b[0;34m\u001b[0m\u001b[0m\n\u001b[0;32m---> 10\u001b[0;31m \u001b[0mcluster_vectors\u001b[0m \u001b[0;34m=\u001b[0m \u001b[0mmodel\u001b[0m\u001b[0;34m.\u001b[0m\u001b[0mget_cluster_vectors\u001b[0m\u001b[0;34m(\u001b[0m\u001b[0;34m)\u001b[0m\u001b[0;34m\u001b[0m\u001b[0;34m\u001b[0m\u001b[0m\n\u001b[0m\u001b[1;32m     11\u001b[0m \u001b[0;34m\u001b[0m\u001b[0m\n\u001b[1;32m     12\u001b[0m \u001b[0;31m# Belirli bir küme numarasına ait belgeleri alın\u001b[0m\u001b[0;34m\u001b[0m\u001b[0;34m\u001b[0m\u001b[0m\n",
      "\u001b[0;31mAttributeError\u001b[0m: 'Top2Vec' object has no attribute 'get_cluster_vectors'"
     ]
    }
   ],
   "source": [
    "from top2vec import Top2Vec\n",
    "\n",
    "# Top2Vec modelini oluşturun\n",
    "model = Top2Vec(text_df[\"cleaned text\"].tolist(), speed=\"learn\", verbose=True,min_count=0)\n",
    "\n",
    "# Kümeleme işlemi\n",
    "clusters = model.hierarchical_topic_reduction(num_topics=1)\n",
    "\n",
    "# Her kümenin başlık vektörünü alın\n",
    "#cluster_vectors = model.get_documents_topics() HATA VERİYOR\n",
    "\n",
    "# Belirli bir küme numarasına ait belgeleri alın\n",
    "cluster_num = 0\n",
    "documents_in_cluster = model.get_documents_in_cluster(cluster_num)\n",
    "\n",
    "# Küme numarasına göre en iyi belgeleri alın\n",
    "top_documents_in_cluster = model.get_top_documents_in_cluster(cluster_num, num_docs=5)\n",
    "\n",
    "# Herhangi bir belgeye en yakın belgeleri alın\n",
    "document_idx = 0\n",
    "similar_documents = model.get_documents_related_to_document(document_idx, num_docs=5)\n",
    "\n",
    "# Herhangi bir kelimeye en yakın belgeleri alın\n",
    "word = \"metin\"\n",
    "similar_documents_by_word = model.get_documents_related_to_word(word, num_docs=5)\n",
    "\n",
    "# Küme başlıklarını ve belgeleri yazdırın\n",
    "for cluster_num, documents_in_cluster in enumerate(documents_in_clusters):\n",
    "    cluster_title = model.get_cluster_title(cluster_num)\n",
    "    print(f\"Cluster {cluster_num} Title: {cluster_title}\")\n",
    "    print(\"Documents in Cluster:\")\n",
    "    for document_idx in documents_in_cluster:\n",
    "        print(f\"- {documents[document_idx]}\")\n",
    "\n",
    "# Örnek kodun bu kısmını proje ihtiyaçlarınıza göre özelleştirebilirsiniz.\n"
   ]
  },
  {
   "cell_type": "code",
   "execution_count": null,
   "metadata": {
    "id": "DEOMPDVQJ8s-"
   },
   "outputs": [],
   "source": []
  }
 ],
 "metadata": {
  "colab": {
   "provenance": []
  },
  "kernelspec": {
   "display_name": "Python 3 (ipykernel)",
   "language": "python",
   "name": "python3"
  },
  "language_info": {
   "codemirror_mode": {
    "name": "ipython",
    "version": 3
   },
   "file_extension": ".py",
   "mimetype": "text/x-python",
   "name": "python",
   "nbconvert_exporter": "python",
   "pygments_lexer": "ipython3",
   "version": "3.12.1"
  }
 },
 "nbformat": 4,
 "nbformat_minor": 4
}
